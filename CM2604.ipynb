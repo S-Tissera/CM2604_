{
  "nbformat": 4,
  "nbformat_minor": 0,
  "metadata": {
    "colab": {
      "provenance": [],
      "toc_visible": true,
      "mount_file_id": "1Zas7B9WdwQuRQNIDDwNMFhTK_LyDUa0R",
      "authorship_tag": "ABX9TyN9t/VS3HXDJLX3PbgK2IGO",
      "include_colab_link": true
    },
    "kernelspec": {
      "name": "python3",
      "display_name": "Python 3"
    },
    "language_info": {
      "name": "python"
    }
  },
  "cells": [
    {
      "cell_type": "markdown",
      "metadata": {
        "id": "view-in-github",
        "colab_type": "text"
      },
      "source": [
        "<a href=\"https://colab.research.google.com/github/S-Tissera/CM2604_/blob/main/CM2604.ipynb\" target=\"_parent\"><img src=\"https://colab.research.google.com/assets/colab-badge.svg\" alt=\"Open In Colab\"/></a>"
      ]
    },
    {
      "cell_type": "markdown",
      "source": [
        "# **1. Understanding the Dataset**\n",
        "\n",
        "\n",
        "\n"
      ],
      "metadata": {
        "id": "uid0POb-lQ7-"
      }
    },
    {
      "cell_type": "code",
      "source": [
        "pip install ucimlrepo"
      ],
      "metadata": {
        "colab": {
          "base_uri": "https://localhost:8080/"
        },
        "id": "7PSsyoRHl6o6",
        "outputId": "33ccc6fc-adcc-4a47-e9a8-3535700d6111"
      },
      "execution_count": null,
      "outputs": [
        {
          "output_type": "stream",
          "name": "stdout",
          "text": [
            "Collecting ucimlrepo\n",
            "  Downloading ucimlrepo-0.0.7-py3-none-any.whl.metadata (5.5 kB)\n",
            "Requirement already satisfied: pandas>=1.0.0 in /usr/local/lib/python3.10/dist-packages (from ucimlrepo) (2.2.2)\n",
            "Requirement already satisfied: certifi>=2020.12.5 in /usr/local/lib/python3.10/dist-packages (from ucimlrepo) (2024.8.30)\n",
            "Requirement already satisfied: numpy>=1.22.4 in /usr/local/lib/python3.10/dist-packages (from pandas>=1.0.0->ucimlrepo) (1.26.4)\n",
            "Requirement already satisfied: python-dateutil>=2.8.2 in /usr/local/lib/python3.10/dist-packages (from pandas>=1.0.0->ucimlrepo) (2.8.2)\n",
            "Requirement already satisfied: pytz>=2020.1 in /usr/local/lib/python3.10/dist-packages (from pandas>=1.0.0->ucimlrepo) (2024.2)\n",
            "Requirement already satisfied: tzdata>=2022.7 in /usr/local/lib/python3.10/dist-packages (from pandas>=1.0.0->ucimlrepo) (2024.2)\n",
            "Requirement already satisfied: six>=1.5 in /usr/local/lib/python3.10/dist-packages (from python-dateutil>=2.8.2->pandas>=1.0.0->ucimlrepo) (1.16.0)\n",
            "Downloading ucimlrepo-0.0.7-py3-none-any.whl (8.0 kB)\n",
            "Installing collected packages: ucimlrepo\n",
            "Successfully installed ucimlrepo-0.0.7\n"
          ]
        }
      ]
    },
    {
      "cell_type": "code",
      "execution_count": null,
      "metadata": {
        "colab": {
          "base_uri": "https://localhost:8080/"
        },
        "id": "MuV4ipyxjasf",
        "outputId": "c3543e09-7c87-48ca-be78-7abf0ae62f2d"
      },
      "outputs": [
        {
          "output_type": "stream",
          "name": "stdout",
          "text": [
            "Metadata:\n",
            "{'uci_id': 222, 'name': 'Bank Marketing', 'repository_url': 'https://archive.ics.uci.edu/dataset/222/bank+marketing', 'data_url': 'https://archive.ics.uci.edu/static/public/222/data.csv', 'abstract': 'The data is related with direct marketing campaigns (phone calls) of a Portuguese banking institution. The classification goal is to predict if the client will subscribe a term deposit (variable y).', 'area': 'Business', 'tasks': ['Classification'], 'characteristics': ['Multivariate'], 'num_instances': 45211, 'num_features': 16, 'feature_types': ['Categorical', 'Integer'], 'demographics': ['Age', 'Occupation', 'Marital Status', 'Education Level'], 'target_col': ['y'], 'index_col': None, 'has_missing_values': 'yes', 'missing_values_symbol': 'NaN', 'year_of_dataset_creation': 2014, 'last_updated': 'Fri Aug 18 2023', 'dataset_doi': '10.24432/C5K306', 'creators': ['S. Moro', 'P. Rita', 'P. Cortez'], 'intro_paper': {'ID': 277, 'type': 'NATIVE', 'title': 'A data-driven approach to predict the success of bank telemarketing', 'authors': 'Sérgio Moro, P. Cortez, P. Rita', 'venue': 'Decision Support Systems', 'year': 2014, 'journal': None, 'DOI': '10.1016/j.dss.2014.03.001', 'URL': 'https://www.semanticscholar.org/paper/cab86052882d126d43f72108c6cb41b295cc8a9e', 'sha': None, 'corpus': None, 'arxiv': None, 'mag': None, 'acl': None, 'pmid': None, 'pmcid': None}, 'additional_info': {'summary': \"The data is related with direct marketing campaigns of a Portuguese banking institution. The marketing campaigns were based on phone calls. Often, more than one contact to the same client was required, in order to access if the product (bank term deposit) would be ('yes') or not ('no') subscribed. \\n\\nThere are four datasets: \\n1) bank-additional-full.csv with all examples (41188) and 20 inputs, ordered by date (from May 2008 to November 2010), very close to the data analyzed in [Moro et al., 2014]\\n2) bank-additional.csv with 10% of the examples (4119), randomly selected from 1), and 20 inputs.\\n3) bank-full.csv with all examples and 17 inputs, ordered by date (older version of this dataset with less inputs). \\n4) bank.csv with 10% of the examples and 17 inputs, randomly selected from 3 (older version of this dataset with less inputs). \\nThe smallest datasets are provided to test more computationally demanding machine learning algorithms (e.g., SVM). \\n\\nThe classification goal is to predict if the client will subscribe (yes/no) a term deposit (variable y).\", 'purpose': None, 'funded_by': None, 'instances_represent': None, 'recommended_data_splits': None, 'sensitive_data': None, 'preprocessing_description': None, 'variable_info': 'Input variables:\\n   # bank client data:\\n   1 - age (numeric)\\n   2 - job : type of job (categorical: \"admin.\",\"unknown\",\"unemployed\",\"management\",\"housemaid\",\"entrepreneur\",\"student\",\\n                                       \"blue-collar\",\"self-employed\",\"retired\",\"technician\",\"services\") \\n   3 - marital : marital status (categorical: \"married\",\"divorced\",\"single\"; note: \"divorced\" means divorced or widowed)\\n   4 - education (categorical: \"unknown\",\"secondary\",\"primary\",\"tertiary\")\\n   5 - default: has credit in default? (binary: \"yes\",\"no\")\\n   6 - balance: average yearly balance, in euros (numeric) \\n   7 - housing: has housing loan? (binary: \"yes\",\"no\")\\n   8 - loan: has personal loan? (binary: \"yes\",\"no\")\\n   # related with the last contact of the current campaign:\\n   9 - contact: contact communication type (categorical: \"unknown\",\"telephone\",\"cellular\") \\n  10 - day: last contact day of the month (numeric)\\n  11 - month: last contact month of year (categorical: \"jan\", \"feb\", \"mar\", ..., \"nov\", \"dec\")\\n  12 - duration: last contact duration, in seconds (numeric)\\n   # other attributes:\\n  13 - campaign: number of contacts performed during this campaign and for this client (numeric, includes last contact)\\n  14 - pdays: number of days that passed by after the client was last contacted from a previous campaign (numeric, -1 means client was not previously contacted)\\n  15 - previous: number of contacts performed before this campaign and for this client (numeric)\\n  16 - poutcome: outcome of the previous marketing campaign (categorical: \"unknown\",\"other\",\"failure\",\"success\")\\n\\n  Output variable (desired target):\\n  17 - y - has the client subscribed a term deposit? (binary: \"yes\",\"no\")\\n', 'citation': None}}\n",
            "\n",
            "Variable Information:\n",
            "           name     role         type      demographic  \\\n",
            "0           age  Feature      Integer              Age   \n",
            "1           job  Feature  Categorical       Occupation   \n",
            "2       marital  Feature  Categorical   Marital Status   \n",
            "3     education  Feature  Categorical  Education Level   \n",
            "4       default  Feature       Binary             None   \n",
            "5       balance  Feature      Integer             None   \n",
            "6       housing  Feature       Binary             None   \n",
            "7          loan  Feature       Binary             None   \n",
            "8       contact  Feature  Categorical             None   \n",
            "9   day_of_week  Feature         Date             None   \n",
            "10        month  Feature         Date             None   \n",
            "11     duration  Feature      Integer             None   \n",
            "12     campaign  Feature      Integer             None   \n",
            "13        pdays  Feature      Integer             None   \n",
            "14     previous  Feature      Integer             None   \n",
            "15     poutcome  Feature  Categorical             None   \n",
            "16            y   Target       Binary             None   \n",
            "\n",
            "                                          description  units missing_values  \n",
            "0                                                None   None             no  \n",
            "1   type of job (categorical: 'admin.','blue-colla...   None             no  \n",
            "2   marital status (categorical: 'divorced','marri...   None             no  \n",
            "3   (categorical: 'basic.4y','basic.6y','basic.9y'...   None             no  \n",
            "4                              has credit in default?   None             no  \n",
            "5                              average yearly balance  euros             no  \n",
            "6                                   has housing loan?   None             no  \n",
            "7                                  has personal loan?   None             no  \n",
            "8   contact communication type (categorical: 'cell...   None            yes  \n",
            "9                        last contact day of the week   None             no  \n",
            "10  last contact month of year (categorical: 'jan'...   None             no  \n",
            "11   last contact duration, in seconds (numeric). ...   None             no  \n",
            "12  number of contacts performed during this campa...   None             no  \n",
            "13  number of days that passed by after the client...   None            yes  \n",
            "14  number of contacts performed before this campa...   None             no  \n",
            "15  outcome of the previous marketing campaign (ca...   None            yes  \n",
            "16          has the client subscribed a term deposit?   None             no  \n",
            "\n",
            "First Few Rows:\n",
            "   age           job  marital  education default  balance housing loan  \\\n",
            "0   58    management  married   tertiary      no     2143     yes   no   \n",
            "1   44    technician   single  secondary      no       29     yes   no   \n",
            "2   33  entrepreneur  married  secondary      no        2     yes  yes   \n",
            "3   47   blue-collar  married        NaN      no     1506     yes   no   \n",
            "4   33           NaN   single        NaN      no        1      no   no   \n",
            "\n",
            "  contact  day_of_week month  duration  campaign  pdays  previous poutcome   y  \n",
            "0     NaN            5   may       261         1     -1         0      NaN  no  \n",
            "1     NaN            5   may       151         1     -1         0      NaN  no  \n",
            "2     NaN            5   may        76         1     -1         0      NaN  no  \n",
            "3     NaN            5   may        92         1     -1         0      NaN  no  \n",
            "4     NaN            5   may       198         1     -1         0      NaN  no  \n",
            "\n",
            "Dataset Info:\n",
            "<class 'pandas.core.frame.DataFrame'>\n",
            "RangeIndex: 45211 entries, 0 to 45210\n",
            "Data columns (total 17 columns):\n",
            " #   Column       Non-Null Count  Dtype \n",
            "---  ------       --------------  ----- \n",
            " 0   age          45211 non-null  int64 \n",
            " 1   job          44923 non-null  object\n",
            " 2   marital      45211 non-null  object\n",
            " 3   education    43354 non-null  object\n",
            " 4   default      45211 non-null  object\n",
            " 5   balance      45211 non-null  int64 \n",
            " 6   housing      45211 non-null  object\n",
            " 7   loan         45211 non-null  object\n",
            " 8   contact      32191 non-null  object\n",
            " 9   day_of_week  45211 non-null  int64 \n",
            " 10  month        45211 non-null  object\n",
            " 11  duration     45211 non-null  int64 \n",
            " 12  campaign     45211 non-null  int64 \n",
            " 13  pdays        45211 non-null  int64 \n",
            " 14  previous     45211 non-null  int64 \n",
            " 15  poutcome     8252 non-null   object\n",
            " 16  y            45211 non-null  object\n",
            "dtypes: int64(7), object(10)\n",
            "memory usage: 5.9+ MB\n",
            "None\n",
            "\n",
            "Missing Values:\n",
            "age                0\n",
            "job              288\n",
            "marital            0\n",
            "education       1857\n",
            "default            0\n",
            "balance            0\n",
            "housing            0\n",
            "loan               0\n",
            "contact        13020\n",
            "day_of_week        0\n",
            "month              0\n",
            "duration           0\n",
            "campaign           0\n",
            "pdays              0\n",
            "previous           0\n",
            "poutcome       36959\n",
            "y                  0\n",
            "dtype: int64\n",
            "\n",
            "Statistical Summary:\n",
            "                age        balance   day_of_week      duration      campaign  \\\n",
            "count  45211.000000   45211.000000  45211.000000  45211.000000  45211.000000   \n",
            "mean      40.936210    1362.272058     15.806419    258.163080      2.763841   \n",
            "std       10.618762    3044.765829      8.322476    257.527812      3.098021   \n",
            "min       18.000000   -8019.000000      1.000000      0.000000      1.000000   \n",
            "25%       33.000000      72.000000      8.000000    103.000000      1.000000   \n",
            "50%       39.000000     448.000000     16.000000    180.000000      2.000000   \n",
            "75%       48.000000    1428.000000     21.000000    319.000000      3.000000   \n",
            "max       95.000000  102127.000000     31.000000   4918.000000     63.000000   \n",
            "\n",
            "              pdays      previous  \n",
            "count  45211.000000  45211.000000  \n",
            "mean      40.197828      0.580323  \n",
            "std      100.128746      2.303441  \n",
            "min       -1.000000      0.000000  \n",
            "25%       -1.000000      0.000000  \n",
            "50%       -1.000000      0.000000  \n",
            "75%       -1.000000      0.000000  \n",
            "max      871.000000    275.000000  \n"
          ]
        }
      ],
      "source": [
        "from ucimlrepo import fetch_ucirepo\n",
        "import pandas as pd\n",
        "import matplotlib.pyplot as plt\n",
        "import seaborn as sns\n",
        "\n",
        "# Fetch the dataset\n",
        "bank_marketing = fetch_ucirepo(id=222)\n",
        "\n",
        "# Data (as pandas DataFrames)\n",
        "X = bank_marketing.data.features\n",
        "y = bank_marketing.data.targets\n",
        "\n",
        "# Combine features and target into a single DataFrame for easier analysis\n",
        "data = pd.concat([X, y], axis=1)\n",
        "\n",
        "# Display Metadata\n",
        "print(\"Metadata:\")\n",
        "print(bank_marketing.metadata)\n",
        "\n",
        "# Display Variable Information\n",
        "print(\"\\nVariable Information:\")\n",
        "print(bank_marketing.variables)\n",
        "\n",
        "# Show the first few rows\n",
        "print(\"\\nFirst Few Rows:\")\n",
        "print(data.head())\n",
        "\n",
        "# Basic Information\n",
        "print(\"\\nDataset Info:\")\n",
        "print(data.info())\n",
        "\n",
        "# Missing Values\n",
        "print(\"\\nMissing Values:\")\n",
        "print(data.isnull().sum())\n",
        "\n",
        "# Statistical Summary\n",
        "print(\"\\nStatistical Summary:\")\n",
        "print(data.describe())\n"
      ]
    },
    {
      "cell_type": "markdown",
      "source": [
        "# **2. Cleaning Dataset**"
      ],
      "metadata": {
        "id": "zm0SSe8IsnxG"
      }
    },
    {
      "cell_type": "markdown",
      "source": [
        "***Handling Missing Values***\n"
      ],
      "metadata": {
        "id": "47iQk2_CvIaJ"
      }
    },
    {
      "cell_type": "code",
      "source": [
        "print(\"\\nChecking Missing Values:\")\n",
        "print(data.isnull().sum())\n",
        "\n",
        "# Fill missing values for numerical features with mean\n",
        "for col in data.select_dtypes(include=['int64', 'float64']).columns:\n",
        "    if data[col].isnull().sum() > 0:\n",
        "        data[col] = data[col].fillna(data[col].mean())  # Reassign to avoid inplace=True\n",
        "\n",
        "# Fill missing values for categorical features with mode\n",
        "for col in data.select_dtypes(include=['object']).columns:\n",
        "    if data[col].isnull().sum() > 0:\n",
        "        data[col] = data[col].fillna(data[col].mode()[0])  # Reassign to avoid inplace=True\n",
        "\n",
        "print(\"\\nMissing Values after Cleaning:\")\n",
        "print(data.isnull().sum())\n"
      ],
      "metadata": {
        "colab": {
          "base_uri": "https://localhost:8080/"
        },
        "id": "bAJ4h9nWvBKj",
        "outputId": "95ea130e-3356-4e72-b15f-526da1f161fd"
      },
      "execution_count": null,
      "outputs": [
        {
          "output_type": "stream",
          "name": "stdout",
          "text": [
            "\n",
            "Checking Missing Values:\n",
            "age                0\n",
            "job              288\n",
            "marital            0\n",
            "education       1857\n",
            "default            0\n",
            "balance            0\n",
            "housing            0\n",
            "loan               0\n",
            "contact        13020\n",
            "day_of_week        0\n",
            "month              0\n",
            "duration           0\n",
            "campaign           0\n",
            "pdays              0\n",
            "previous           0\n",
            "poutcome       36959\n",
            "y                  0\n",
            "dtype: int64\n",
            "\n",
            "Missing Values after Cleaning:\n",
            "age            0\n",
            "job            0\n",
            "marital        0\n",
            "education      0\n",
            "default        0\n",
            "balance        0\n",
            "housing        0\n",
            "loan           0\n",
            "contact        0\n",
            "day_of_week    0\n",
            "month          0\n",
            "duration       0\n",
            "campaign       0\n",
            "pdays          0\n",
            "previous       0\n",
            "poutcome       0\n",
            "y              0\n",
            "dtype: int64\n"
          ]
        }
      ]
    },
    {
      "cell_type": "markdown",
      "source": [
        "***Remove Duplicates***"
      ],
      "metadata": {
        "id": "Rd4PzpM5xAKU"
      }
    },
    {
      "cell_type": "code",
      "source": [
        "print(\"\\nChecking for Duplicates:\")\n",
        "print(f\"Duplicate Rows: {data.duplicated().sum()}\")\n",
        "\n",
        "# Drop duplicates\n",
        "data.drop_duplicates(inplace=True)\n",
        "\n",
        "print(f\"Duplicate Rows after Removal: {data.duplicated().sum()}\")"
      ],
      "metadata": {
        "colab": {
          "base_uri": "https://localhost:8080/"
        },
        "id": "QUUCwavXvGnk",
        "outputId": "bea70ae5-e030-4bba-9370-bc9b1f526d4a"
      },
      "execution_count": null,
      "outputs": [
        {
          "output_type": "stream",
          "name": "stdout",
          "text": [
            "\n",
            "Checking for Duplicates:\n",
            "Duplicate Rows: 0\n",
            "Duplicate Rows after Removal: 0\n"
          ]
        }
      ]
    },
    {
      "cell_type": "markdown",
      "source": [
        "***Handle Outliers using IQR***"
      ],
      "metadata": {
        "id": "2zc-lcvO1q-V"
      }
    },
    {
      "cell_type": "code",
      "source": [
        "numerical_cols = data.select_dtypes(include=['int64', 'float64']).columns\n",
        "for col in numerical_cols:\n",
        "    Q1 = data[col].quantile(0.25)\n",
        "    Q3 = data[col].quantile(0.75)\n",
        "    IQR = Q3 - Q1\n",
        "    lower_bound = Q1 - 1.5 * IQR\n",
        "    upper_bound = Q3 + 1.5 * IQR\n",
        "    data = data[(data[col] >= lower_bound) & (data[col] <= upper_bound)]\n",
        "\n",
        "print(\"\\nDataset Shape after Outlier Removal:\")\n",
        "print(data.shape)"
      ],
      "metadata": {
        "colab": {
          "base_uri": "https://localhost:8080/"
        },
        "id": "AvmCbWqhvG7l",
        "outputId": "44dc2aa1-326d-4999-f3bd-baf383256c96"
      },
      "execution_count": null,
      "outputs": [
        {
          "output_type": "stream",
          "name": "stdout",
          "text": [
            "\n",
            "Dataset Shape after Outlier Removal:\n",
            "(28069, 17)\n"
          ]
        }
      ]
    },
    {
      "cell_type": "markdown",
      "source": [
        "***Encode Categorical Variables***"
      ],
      "metadata": {
        "id": "Jdi8vETA2P-W"
      }
    },
    {
      "cell_type": "code",
      "source": [
        "categorical_cols = data.select_dtypes(include=['object']).columns\n",
        "print(\"\\nEncoding Categorical Features:\")\n",
        "print(categorical_cols)\n",
        "\n",
        "# Apply One-Hot Encoding\n",
        "data = pd.get_dummies(data, columns=categorical_cols, drop_first=True)"
      ],
      "metadata": {
        "colab": {
          "base_uri": "https://localhost:8080/"
        },
        "id": "nWneKAmavHHC",
        "outputId": "22e48e88-9a10-4055-fb60-3689040e3593"
      },
      "execution_count": null,
      "outputs": [
        {
          "output_type": "stream",
          "name": "stdout",
          "text": [
            "\n",
            "Encoding Categorical Features:\n",
            "Index(['job', 'marital', 'education', 'default', 'housing', 'loan', 'contact',\n",
            "       'month', 'poutcome', 'y'],\n",
            "      dtype='object')\n"
          ]
        }
      ]
    }
  ]
}